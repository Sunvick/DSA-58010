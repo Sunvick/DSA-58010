{
  "nbformat": 4,
  "nbformat_minor": 0,
  "metadata": {
    "colab": {
      "provenance": [],
      "include_colab_link": true
    },
    "kernelspec": {
      "name": "python3",
      "display_name": "Python 3"
    },
    "language_info": {
      "name": "python"
    }
  },
  "cells": [
    {
      "cell_type": "markdown",
      "metadata": {
        "id": "view-in-github",
        "colab_type": "text"
      },
      "source": [
        "<a href=\"https://colab.research.google.com/github/Sunvick/DSA-58010/blob/main/Activity%202.ipynb\" target=\"_parent\"><img src=\"https://colab.research.google.com/assets/colab-badge.svg\" alt=\"Open In Colab\"/></a>"
      ]
    },
    {
      "cell_type": "markdown",
      "source": [
        "**1.Write a Python program to create a singly linked list of prime numbers less than 20. By iterating through the list, display all the prime numbers, the head, and the tail of the list. (using Google Colab)**\n",
        "\n",
        "**2.Save your source codes to GitHub**\n",
        "\n",
        "**3.Name it as Activity 2 and copy the link of your GitHub repository DSA 58010 here**\n"
      ],
      "metadata": {
        "id": "dKrxJ8B0DbN4"
      }
    },
    {
      "cell_type": "code",
      "source": [
        "class Node:                  \n",
        "  def __init__(self, data):\n",
        "    self.data = data\n",
        "    self.next = None\n",
        "\n",
        "class LinkedList_PrimeNumbers:             \n",
        "    def __init__(self):\n",
        "        self.head = None\n",
        "        self.tail = None\n",
        "    \n",
        "    def printList(self):\n",
        "      P = self.head\n",
        "      while(P):\n",
        "        print(P.data)\n",
        "        P = P.next\n",
        "\n",
        "#Prime numbers less than 20: 2, 3, 5, 7, 11, 13, 17, 19\n",
        "list = LinkedList_PrimeNumbers()\n",
        "list.head = Node(2)\n",
        "three = Node(3)\n",
        "five = Node(5)\n",
        "seven = Node(7)\n",
        "eleven = Node(11)\n",
        "thirteen = Node(13)\n",
        "seventeen = Node(17)\n",
        "tail = Node(19)\n",
        "\n",
        "#function to the next node values\n",
        "list.head.next = three\n",
        "three.next = five\n",
        "five.next = seven\n",
        "seven.next = eleven\n",
        "eleven.next = thirteen\n",
        "thirteen.next = seventeen\n",
        "seventeen.next = tail\n",
        "\n",
        "print(\"Head:\",list.head.data)\n",
        "print(\"Tail:\",seventeen.next.data)\n",
        "print(\"\\nPrime numbers less than 20:\")\n",
        "list.printList()"
      ],
      "metadata": {
        "colab": {
          "base_uri": "https://localhost:8080/"
        },
        "id": "W4xGRbz9ZZ1D",
        "outputId": "13b5e5fe-30c4-4329-ec16-162008a45127"
      },
      "execution_count": 17,
      "outputs": [
        {
          "output_type": "stream",
          "name": "stdout",
          "text": [
            "Head: 2\n",
            "Tail: 19\n",
            "\n",
            "Prime numbers less than 20:\n",
            "2\n",
            "3\n",
            "5\n",
            "7\n",
            "11\n",
            "13\n",
            "17\n",
            "19\n"
          ]
        }
      ]
    }
  ]
}