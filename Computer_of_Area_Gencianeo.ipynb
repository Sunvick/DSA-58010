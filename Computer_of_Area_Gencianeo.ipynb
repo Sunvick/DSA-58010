{
  "nbformat": 4,
  "nbformat_minor": 0,
  "metadata": {
    "colab": {
      "name": "Computer of Area Gencianeo.ipynb",
      "provenance": [],
      "collapsed_sections": [],
      "authorship_tag": "ABX9TyMQzqT+4ozPb60FViNtHHYD",
      "include_colab_link": true
    },
    "kernelspec": {
      "name": "python3",
      "display_name": "Python 3"
    },
    "language_info": {
      "name": "python"
    }
  },
  "cells": [
    {
      "cell_type": "markdown",
      "metadata": {
        "id": "view-in-github",
        "colab_type": "text"
      },
      "source": [
        "<a href=\"https://colab.research.google.com/github/Sunvick/DSA-58010/blob/main/Computer_of_Area_Gencianeo.ipynb\" target=\"_parent\"><img src=\"https://colab.research.google.com/assets/colab-badge.svg\" alt=\"Open In Colab\"/></a>"
      ]
    },
    {
      "cell_type": "markdown",
      "source": [],
      "metadata": {
        "id": "qPiTAkAkiSS9"
      }
    },
    {
      "cell_type": "code",
      "source": [
        "#phyton program using radius\n",
        "\n",
        "PI = 3.14\n",
        "radius = float(input(' Please Enter the radius of a circle: '))\n",
        "area = PI * radius * radius\n",
        "circumference = 2 * PI * radius\n",
        "\n",
        "print(\" Area Of a Circle = %.2f\" %area)"
      ],
      "metadata": {
        "colab": {
          "base_uri": "https://localhost:8080/"
        },
        "id": "_wbJ_m1OiSdm",
        "outputId": "b5101d24-ab53-4404-8764-b2115631ea9d"
      },
      "execution_count": 11,
      "outputs": [
        {
          "output_type": "stream",
          "name": "stdout",
          "text": [
            " Please Enter the radius of a circle: 3\n",
            " Area Of a Circle = 28.26\n"
          ]
        }
      ]
    },
    {
      "cell_type": "code",
      "source": [
        "# Python Program to find Diameter \n",
        "import math\n",
        "\n",
        "def find_Diameter(radius):\n",
        "    return 2 * radius\n",
        "\n",
        "\n",
        "\n",
        "r = float(input(' Please Enter the radius of a circle: '))\n",
        "\n",
        "diameter = find_Diameter(r)\n",
        "\n",
        "print(\"\\n Diameter Of a Circle = %.2f\" %diameter)"
      ],
      "metadata": {
        "colab": {
          "base_uri": "https://localhost:8080/"
        },
        "id": "MkbWlfL8kSk1",
        "outputId": "859daf65-da01-4843-e61f-057cce125d6e"
      },
      "execution_count": 10,
      "outputs": [
        {
          "output_type": "stream",
          "name": "stdout",
          "text": [
            " Please Enter the radius of a circle: 3\n",
            "\n",
            " Diameter Of a Circle = 6.00\n"
          ]
        }
      ]
    }
  ]
}