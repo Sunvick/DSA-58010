{
  "nbformat": 4,
  "nbformat_minor": 0,
  "metadata": {
    "colab": {
      "provenance": [],
      "authorship_tag": "ABX9TyPLZ7pkGQP/FQn9iY6O71yH",
      "include_colab_link": true
    },
    "kernelspec": {
      "name": "python3",
      "display_name": "Python 3"
    },
    "language_info": {
      "name": "python"
    }
  },
  "cells": [
    {
      "cell_type": "markdown",
      "metadata": {
        "id": "view-in-github",
        "colab_type": "text"
      },
      "source": [
        "<a href=\"https://colab.research.google.com/github/Sunvick/DSA-58010/blob/main/Gencianeo_Activity.ipynb\" target=\"_parent\"><img src=\"https://colab.research.google.com/assets/colab-badge.svg\" alt=\"Open In Colab\"/></a>"
      ]
    },
    {
      "cell_type": "markdown",
      "source": [
        "#Write a Python program to create an array of 10 integers and display the array items. Access individual elements through indexes and compute for the sum."
      ],
      "metadata": {
        "id": "_eqAswoCX8tW"
      }
    },
    {
      "cell_type": "code",
      "execution_count": 2,
      "metadata": {
        "colab": {
          "base_uri": "https://localhost:8080/"
        },
        "id": "uhfjoq2rXKcp",
        "outputId": "f5caeea6-b48a-47ba-ad7f-ee0dc1cc0fff"
      },
      "outputs": [
        {
          "output_type": "stream",
          "name": "stdout",
          "text": [
            "[1, 2, 3, 4, 5, 6, 7, 8, 9, 10]\n",
            "the addition of the number is: 110\n"
          ]
        }
      ],
      "source": [
        "Num = [1,2,3,4,5,6,7,8,9,10] \n",
        "Sum = 0\n",
        "for y in num:\n",
        "  sum += y\n",
        "\n",
        "print(Num)\n",
        "print(\"the addition of the number is:\" ,sum)"
      ]
    },
    {
      "cell_type": "markdown",
      "source": [
        "#.Write a Python program to append a new item to the end of the array. Original array: numbers = [1, 2, 3, 4, 5, 6, 7, 8, 9, 10]\n",
        "\n"
      ],
      "metadata": {
        "id": "O33FLTtoYjBA"
      }
    },
    {
      "cell_type": "code",
      "source": [
        "Number= [1, 2, 3, 4, 5, 6, 7, 8, 9, 10]\n",
        "Number.append(9999)\n",
        "print (Number)"
      ],
      "metadata": {
        "colab": {
          "base_uri": "https://localhost:8080/"
        },
        "id": "z5xQ3PX-Yn3n",
        "outputId": "7e813723-836e-4bfa-dde4-850d8a686fbd"
      },
      "execution_count": 4,
      "outputs": [
        {
          "output_type": "stream",
          "name": "stdout",
          "text": [
            "[1, 2, 3, 4, 5, 6, 7, 8, 9, 10, 9999]\n"
          ]
        }
      ]
    },
    {
      "cell_type": "markdown",
      "source": [
        "#3.Write a Python program to insert a new item before the second element in an existing array. Original array: numbers = [1, 2, 3, 4, 5, 6, 7, 8, 9, 10]\n",
        "\n"
      ],
      "metadata": {
        "id": "uCuXNmXWZDXH"
      }
    },
    {
      "cell_type": "code",
      "source": [
        "number = [1, 2, 3, 4, 5, 6, 7, 8, 9, 10]\n",
        "number[1]= 55\n",
        "print (number)"
      ],
      "metadata": {
        "colab": {
          "base_uri": "https://localhost:8080/"
        },
        "id": "5MhhHNcIZKDr",
        "outputId": "5087c449-d452-4aa7-d685-5e34a58fe2c4"
      },
      "execution_count": 5,
      "outputs": [
        {
          "output_type": "stream",
          "name": "stdout",
          "text": [
            "[1, 55, 3, 4, 5, 6, 7, 8, 9, 10]\n"
          ]
        }
      ]
    },
    {
      "cell_type": "markdown",
      "source": [
        "#4.Write a Python program to reverse the order of the items in the array.Original array: numbers = [5, 4, 3, 2, 1]\n",
        "\n"
      ],
      "metadata": {
        "id": "A5iVF8jHZmKM"
      }
    },
    {
      "cell_type": "code",
      "source": [
        "Numbers = [5,4,3,2,1]\n",
        "Numbers.reverse()\n",
        "print(Numbers)"
      ],
      "metadata": {
        "colab": {
          "base_uri": "https://localhost:8080/"
        },
        "id": "HmpGb0iLZ6ct",
        "outputId": "24866594-aa18-41ac-f76c-830b78f0b069"
      },
      "execution_count": 10,
      "outputs": [
        {
          "output_type": "stream",
          "name": "stdout",
          "text": [
            "[1, 2, 3, 4, 5]\n"
          ]
        }
      ]
    },
    {
      "cell_type": "markdown",
      "source": [
        "#5.Write a Python program to get the length of the array. Original array: numbers = [5, 4, 3, 2, 1]\n",
        "\n"
      ],
      "metadata": {
        "id": "GcWkNz4Zabw3"
      }
    },
    {
      "cell_type": "code",
      "source": [
        "Number = [5,4,3,2,1]\n",
        "length = len(Number)\n",
        "print(\"new list\",length)"
      ],
      "metadata": {
        "colab": {
          "base_uri": "https://localhost:8080/"
        },
        "id": "EGu5vRwEas4v",
        "outputId": "145a5f59-db65-4b94-cace-cbb8c18e8c63"
      },
      "execution_count": 13,
      "outputs": [
        {
          "output_type": "stream",
          "name": "stdout",
          "text": [
            "new list 5\n"
          ]
        }
      ]
    }
  ]
}