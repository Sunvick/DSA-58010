{
  "nbformat": 4,
  "nbformat_minor": 0,
  "metadata": {
    "colab": {
      "name": "Practical lab exam 1.pynb",
      "provenance": [],
      "authorship_tag": "ABX9TyOqBBDZB3yVGWvQ20J9S4+z",
      "include_colab_link": true
    },
    "kernelspec": {
      "name": "python3",
      "display_name": "Python 3"
    },
    "language_info": {
      "name": "python"
    }
  },
  "cells": [
    {
      "cell_type": "markdown",
      "metadata": {
        "id": "view-in-github",
        "colab_type": "text"
      },
      "source": [
        "<a href=\"https://colab.research.google.com/github/Sunvick/DSA-58010/blob/main/Practical_lab_exam_1_pynb.ipynb\" target=\"_parent\"><img src=\"https://colab.research.google.com/assets/colab-badge.svg\" alt=\"Open In Colab\"/></a>"
      ]
    },
    {
      "cell_type": "code",
      "execution_count": null,
      "metadata": {
        "colab": {
          "base_uri": "https://localhost:8080/"
        },
        "id": "p0JdoGKQ6pKT",
        "outputId": "26186c3c-85ef-4898-9466-0edeeaa3b1ff"
      },
      "outputs": [
        {
          "output_type": "stream",
          "name": "stdout",
          "text": [
            "Even Numbers are:  [26, 98, 62]\n",
            "the sum is: 186\n"
          ]
        }
      ],
      "source": [
        "list1 = [26,49,98,87,62,75] \n",
        "\n",
        "only_even = [num for num in list1 if num % 2 == 0]\n",
        "res = sum(only_even)\n",
        "\n",
        "print(\"Even Numbers are: \", only_even)\n",
        "print(\"the sum is:\",res)\n"
      ]
    }
  ]
}